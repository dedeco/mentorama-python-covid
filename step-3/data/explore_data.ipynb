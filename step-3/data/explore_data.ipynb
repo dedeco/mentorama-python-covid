{
 "cells": [
  {
   "cell_type": "code",
   "execution_count": 1,
   "id": "f887c529-2e74-427d-b0e7-96a456426827",
   "metadata": {},
   "outputs": [
    {
     "name": "stdout",
     "output_type": "stream",
     "text": [
      "Requirement already satisfied: pytest in /Users/u004900/.pyenv/versions/3.8.0/lib/python3.8/site-packages (6.2.5)\n",
      "Requirement already satisfied: toml in /Users/u004900/.pyenv/versions/3.8.0/lib/python3.8/site-packages (from pytest) (0.10.2)\n",
      "Requirement already satisfied: py>=1.8.2 in /Users/u004900/.pyenv/versions/3.8.0/lib/python3.8/site-packages (from pytest) (1.10.0)\n",
      "Requirement already satisfied: packaging in /Users/u004900/.pyenv/versions/3.8.0/lib/python3.8/site-packages (from pytest) (21.0)\n",
      "Requirement already satisfied: pluggy<2.0,>=0.12 in /Users/u004900/.pyenv/versions/3.8.0/lib/python3.8/site-packages (from pytest) (1.0.0)\n",
      "Requirement already satisfied: attrs>=19.2.0 in /Users/u004900/.pyenv/versions/3.8.0/lib/python3.8/site-packages (from pytest) (21.2.0)\n",
      "Requirement already satisfied: iniconfig in /Users/u004900/.pyenv/versions/3.8.0/lib/python3.8/site-packages (from pytest) (1.1.1)\n",
      "Requirement already satisfied: pyparsing>=2.0.2 in /Users/u004900/.pyenv/versions/3.8.0/lib/python3.8/site-packages (from packaging->pytest) (2.4.7)\n"
     ]
    }
   ],
   "source": [
    "!pip install pytest\n",
    "!pip install pyspark"
   ]
  },
  {
   "cell_type": "code",
   "execution_count": 3,
   "id": "2b912c07-8b46-4ab9-8eaf-e6f2879a112f",
   "metadata": {},
   "outputs": [],
   "source": [
    "import pytest\n",
    "from pyspark.sql import SparkSession"
   ]
  },
  {
   "cell_type": "code",
   "execution_count": 4,
   "id": "a5bc1042-1d5c-4ee4-8ae2-c19e0961f58e",
   "metadata": {},
   "outputs": [
    {
     "name": "stderr",
     "output_type": "stream",
     "text": [
      "21/09/07 10:44:36 WARN NativeCodeLoader: Unable to load native-hadoop library for your platform... using builtin-java classes where applicable\n",
      "Using Spark's default log4j profile: org/apache/spark/log4j-defaults.properties\n",
      "Setting default log level to \"WARN\".\n",
      "To adjust logging level use sc.setLogLevel(newLevel). For SparkR, use setLogLevel(newLevel).\n"
     ]
    }
   ],
   "source": [
    "spark = SparkSession \\\n",
    "    .builder \\\n",
    "    .appName(\"Covid19 Vaccination Progress\") \\\n",
    "    .getOrCreate()"
   ]
  },
  {
   "cell_type": "code",
   "execution_count": 5,
   "id": "33a03e36-7650-441e-8d1c-ff9240aa8738",
   "metadata": {},
   "outputs": [],
   "source": [
    "sample1 = [\n",
    "    (\"UK\", \"3/1/21\", 1397251, \"Oxford/AstraZeneca, Pfizer/BioNTech\"),\n",
    "    (\"UK\", \"9/1/21\", 10000, \"Oxford/AstraZeneca, Pfizer/BioNTech\"),\n",
    "    (\"US\", \"9/1/21\", 10000, \"Moderna, Pfizer/BioNTech\"),\n",
    "    (\"Russia\", \"2/1/21\", 800000, \"Sputnik V\"),\n",
    "]"
   ]
  },
  {
   "cell_type": "code",
   "execution_count": 6,
   "id": "8179e219-fc11-4695-9e03-c557581b0be3",
   "metadata": {},
   "outputs": [],
   "source": [
    "sample2 = [\n",
    "    ['Italy', '3/1/21', 123211.0, 'Moderna, Pfizer/BioNTech'],\n",
    "    ['Cayman Islands', '9/1/21', 0.0, 'Pfizer/BioNTech'],\n",
    "    ['Northern Ireland', '29/12/20', 0.0, 'Oxford/AstraZeneca, Pfizer/BioNTech'],\n",
    "    ['Costa Rica', '18/1/21', 29389.0, 'Pfizer/BioNTech'],\n",
    "    ['Luxembourg', '11/1/21', 1943.0, 'Pfizer/BioNTech']\n",
    "]"
   ]
  }
 ],
 "metadata": {
  "kernelspec": {
   "display_name": "Python 3 (ipykernel)",
   "language": "python",
   "name": "python3"
  },
  "language_info": {
   "codemirror_mode": {
    "name": "ipython",
    "version": 3
   },
   "file_extension": ".py",
   "mimetype": "text/x-python",
   "name": "python",
   "nbconvert_exporter": "python",
   "pygments_lexer": "ipython3",
   "version": "3.8.0"
  }
 },
 "nbformat": 4,
 "nbformat_minor": 5
}
